{
  "cells": [
    {
      "cell_type": "markdown",
      "metadata": {
        "id": "T1YZH70joFa6"
      },
      "source": [
        "# Import Libraries"
      ]
    },
    {
      "cell_type": "code",
      "execution_count": null,
      "metadata": {
        "id": "gqaLVC_CjxJJ"
      },
      "outputs": [],
      "source": [
        "import numpy as np # linear algebra\n",
        "import pandas as pd # data processing, CSV file I/O (e.g. pd.read_csv)\n",
        "import cv2\n",
        "import seaborn as sns\n",
        "\n",
        "from matplotlib import pyplot as plt\n",
        "%matplotlib inline\n",
        "\n",
        "import tensorflow as tf \n",
        "from keras.utils import np_utils\n",
        "# for cnn model\n",
        "import keras\n",
        "from keras.preprocessing import sequence\n",
        "from keras.models import Sequential\n",
        "from keras.layers import Dense, Embedding\n",
        "from keras.layers import LSTM,BatchNormalization\n",
        "from keras.preprocessing.text import Tokenizer\n",
        "from keras.preprocessing.sequence import pad_sequences\n",
        "from tensorflow.keras.utils import to_categorical\n",
        "from keras.layers import Input, Flatten, Dropout, Activation\n",
        "from keras.layers import Conv1D, MaxPooling1D, AveragePooling1D\n",
        "from keras.layers import Dense, Conv2D, UpSampling2D, MaxPooling2D, ZeroPadding2D, Reshape\n",
        "from keras.models import Model\n",
        "from keras.callbacks import ModelCheckpoint\n",
        "from keras import backend as K"
      ]
    },
    {
      "cell_type": "markdown",
      "metadata": {
        "id": "xz5XLXG_oMcy"
      },
      "source": [
        "Upload Dataset"
      ]
    },
    {
      "cell_type": "code",
      "execution_count": null,
      "metadata": {
        "colab": {
          "base_uri": "https://localhost:8080/",
          "height": 363
        },
        "id": "04DHHqqij7LV",
        "outputId": "71be06bb-6835-4a28-bf6d-2a3440722ea5"
      },
      "outputs": [
        {
          "output_type": "execute_result",
          "data": {
            "text/plain": [
              "   emotion                                             pixels     Usage\n",
              "0        0  70 80 82 72 58 58 60 63 54 58 60 48 89 115 121...  Training\n",
              "1        0  151 150 147 155 148 133 111 140 170 174 182 15...  Training\n",
              "2        2  231 212 156 164 174 138 161 173 182 200 106 38...  Training\n",
              "3        4  24 32 36 30 32 23 19 20 30 41 21 22 32 34 21 1...  Training\n",
              "4        6  4 0 0 0 0 0 0 0 0 0 0 0 3 15 23 28 48 50 58 84...  Training\n",
              "5        2  55 55 55 55 55 54 60 68 54 85 151 163 170 179 ...  Training\n",
              "6        4  20 17 19 21 25 38 42 42 46 54 56 62 63 66 82 1...  Training\n",
              "7        3  77 78 79 79 78 75 60 55 47 48 58 73 77 79 57 5...  Training\n",
              "8        3  85 84 90 121 101 102 133 153 153 169 177 189 1...  Training\n",
              "9        2  255 254 255 254 254 179 122 107 95 124 149 150...  Training"
            ],
            "text/html": [
              "\n",
              "  <div id=\"df-8ccc0def-892f-43a0-8dad-619dd63ad8ef\">\n",
              "    <div class=\"colab-df-container\">\n",
              "      <div>\n",
              "<style scoped>\n",
              "    .dataframe tbody tr th:only-of-type {\n",
              "        vertical-align: middle;\n",
              "    }\n",
              "\n",
              "    .dataframe tbody tr th {\n",
              "        vertical-align: top;\n",
              "    }\n",
              "\n",
              "    .dataframe thead th {\n",
              "        text-align: right;\n",
              "    }\n",
              "</style>\n",
              "<table border=\"1\" class=\"dataframe\">\n",
              "  <thead>\n",
              "    <tr style=\"text-align: right;\">\n",
              "      <th></th>\n",
              "      <th>emotion</th>\n",
              "      <th>pixels</th>\n",
              "      <th>Usage</th>\n",
              "    </tr>\n",
              "  </thead>\n",
              "  <tbody>\n",
              "    <tr>\n",
              "      <th>0</th>\n",
              "      <td>0</td>\n",
              "      <td>70 80 82 72 58 58 60 63 54 58 60 48 89 115 121...</td>\n",
              "      <td>Training</td>\n",
              "    </tr>\n",
              "    <tr>\n",
              "      <th>1</th>\n",
              "      <td>0</td>\n",
              "      <td>151 150 147 155 148 133 111 140 170 174 182 15...</td>\n",
              "      <td>Training</td>\n",
              "    </tr>\n",
              "    <tr>\n",
              "      <th>2</th>\n",
              "      <td>2</td>\n",
              "      <td>231 212 156 164 174 138 161 173 182 200 106 38...</td>\n",
              "      <td>Training</td>\n",
              "    </tr>\n",
              "    <tr>\n",
              "      <th>3</th>\n",
              "      <td>4</td>\n",
              "      <td>24 32 36 30 32 23 19 20 30 41 21 22 32 34 21 1...</td>\n",
              "      <td>Training</td>\n",
              "    </tr>\n",
              "    <tr>\n",
              "      <th>4</th>\n",
              "      <td>6</td>\n",
              "      <td>4 0 0 0 0 0 0 0 0 0 0 0 3 15 23 28 48 50 58 84...</td>\n",
              "      <td>Training</td>\n",
              "    </tr>\n",
              "    <tr>\n",
              "      <th>5</th>\n",
              "      <td>2</td>\n",
              "      <td>55 55 55 55 55 54 60 68 54 85 151 163 170 179 ...</td>\n",
              "      <td>Training</td>\n",
              "    </tr>\n",
              "    <tr>\n",
              "      <th>6</th>\n",
              "      <td>4</td>\n",
              "      <td>20 17 19 21 25 38 42 42 46 54 56 62 63 66 82 1...</td>\n",
              "      <td>Training</td>\n",
              "    </tr>\n",
              "    <tr>\n",
              "      <th>7</th>\n",
              "      <td>3</td>\n",
              "      <td>77 78 79 79 78 75 60 55 47 48 58 73 77 79 57 5...</td>\n",
              "      <td>Training</td>\n",
              "    </tr>\n",
              "    <tr>\n",
              "      <th>8</th>\n",
              "      <td>3</td>\n",
              "      <td>85 84 90 121 101 102 133 153 153 169 177 189 1...</td>\n",
              "      <td>Training</td>\n",
              "    </tr>\n",
              "    <tr>\n",
              "      <th>9</th>\n",
              "      <td>2</td>\n",
              "      <td>255 254 255 254 254 179 122 107 95 124 149 150...</td>\n",
              "      <td>Training</td>\n",
              "    </tr>\n",
              "  </tbody>\n",
              "</table>\n",
              "</div>\n",
              "      <button class=\"colab-df-convert\" onclick=\"convertToInteractive('df-8ccc0def-892f-43a0-8dad-619dd63ad8ef')\"\n",
              "              title=\"Convert this dataframe to an interactive table.\"\n",
              "              style=\"display:none;\">\n",
              "        \n",
              "  <svg xmlns=\"http://www.w3.org/2000/svg\" height=\"24px\"viewBox=\"0 0 24 24\"\n",
              "       width=\"24px\">\n",
              "    <path d=\"M0 0h24v24H0V0z\" fill=\"none\"/>\n",
              "    <path d=\"M18.56 5.44l.94 2.06.94-2.06 2.06-.94-2.06-.94-.94-2.06-.94 2.06-2.06.94zm-11 1L8.5 8.5l.94-2.06 2.06-.94-2.06-.94L8.5 2.5l-.94 2.06-2.06.94zm10 10l.94 2.06.94-2.06 2.06-.94-2.06-.94-.94-2.06-.94 2.06-2.06.94z\"/><path d=\"M17.41 7.96l-1.37-1.37c-.4-.4-.92-.59-1.43-.59-.52 0-1.04.2-1.43.59L10.3 9.45l-7.72 7.72c-.78.78-.78 2.05 0 2.83L4 21.41c.39.39.9.59 1.41.59.51 0 1.02-.2 1.41-.59l7.78-7.78 2.81-2.81c.8-.78.8-2.07 0-2.86zM5.41 20L4 18.59l7.72-7.72 1.47 1.35L5.41 20z\"/>\n",
              "  </svg>\n",
              "      </button>\n",
              "      \n",
              "  <style>\n",
              "    .colab-df-container {\n",
              "      display:flex;\n",
              "      flex-wrap:wrap;\n",
              "      gap: 12px;\n",
              "    }\n",
              "\n",
              "    .colab-df-convert {\n",
              "      background-color: #E8F0FE;\n",
              "      border: none;\n",
              "      border-radius: 50%;\n",
              "      cursor: pointer;\n",
              "      display: none;\n",
              "      fill: #1967D2;\n",
              "      height: 32px;\n",
              "      padding: 0 0 0 0;\n",
              "      width: 32px;\n",
              "    }\n",
              "\n",
              "    .colab-df-convert:hover {\n",
              "      background-color: #E2EBFA;\n",
              "      box-shadow: 0px 1px 2px rgba(60, 64, 67, 0.3), 0px 1px 3px 1px rgba(60, 64, 67, 0.15);\n",
              "      fill: #174EA6;\n",
              "    }\n",
              "\n",
              "    [theme=dark] .colab-df-convert {\n",
              "      background-color: #3B4455;\n",
              "      fill: #D2E3FC;\n",
              "    }\n",
              "\n",
              "    [theme=dark] .colab-df-convert:hover {\n",
              "      background-color: #434B5C;\n",
              "      box-shadow: 0px 1px 3px 1px rgba(0, 0, 0, 0.15);\n",
              "      filter: drop-shadow(0px 1px 2px rgba(0, 0, 0, 0.3));\n",
              "      fill: #FFFFFF;\n",
              "    }\n",
              "  </style>\n",
              "\n",
              "      <script>\n",
              "        const buttonEl =\n",
              "          document.querySelector('#df-8ccc0def-892f-43a0-8dad-619dd63ad8ef button.colab-df-convert');\n",
              "        buttonEl.style.display =\n",
              "          google.colab.kernel.accessAllowed ? 'block' : 'none';\n",
              "\n",
              "        async function convertToInteractive(key) {\n",
              "          const element = document.querySelector('#df-8ccc0def-892f-43a0-8dad-619dd63ad8ef');\n",
              "          const dataTable =\n",
              "            await google.colab.kernel.invokeFunction('convertToInteractive',\n",
              "                                                     [key], {});\n",
              "          if (!dataTable) return;\n",
              "\n",
              "          const docLinkHtml = 'Like what you see? Visit the ' +\n",
              "            '<a target=\"_blank\" href=https://colab.research.google.com/notebooks/data_table.ipynb>data table notebook</a>'\n",
              "            + ' to learn more about interactive tables.';\n",
              "          element.innerHTML = '';\n",
              "          dataTable['output_type'] = 'display_data';\n",
              "          await google.colab.output.renderOutput(dataTable, element);\n",
              "          const docLink = document.createElement('div');\n",
              "          docLink.innerHTML = docLinkHtml;\n",
              "          element.appendChild(docLink);\n",
              "        }\n",
              "      </script>\n",
              "    </div>\n",
              "  </div>\n",
              "  "
            ]
          },
          "metadata": {},
          "execution_count": 3
        }
      ],
      "source": [
        "data = pd.read_csv(\"/content/drive/MyDrive/RESEARCH/fer2013.csv\")\n",
        "data.head(10)"
      ]
    },
    {
      "cell_type": "code",
      "execution_count": null,
      "metadata": {
        "colab": {
          "base_uri": "https://localhost:8080/"
        },
        "id": "TSJhR8aDkMf8",
        "outputId": "9350e09b-2c3d-4384-dd6b-73cefd355658"
      },
      "outputs": [
        {
          "output_type": "execute_result",
          "data": {
            "text/plain": [
              "Training       28709\n",
              "PublicTest      3589\n",
              "PrivateTest     3589\n",
              "Name: Usage, dtype: int64"
            ]
          },
          "metadata": {},
          "execution_count": 4
        }
      ],
      "source": [
        "data.Usage.value_counts()"
      ]
    },
    {
      "cell_type": "code",
      "execution_count": null,
      "metadata": {
        "id": "2IwaoQQBkRYV"
      },
      "outputs": [],
      "source": [
        "X = data['pixels']\n",
        "y = data['emotion']"
      ]
    },
    {
      "cell_type": "code",
      "execution_count": null,
      "metadata": {
        "colab": {
          "base_uri": "https://localhost:8080/"
        },
        "id": "y2qv9FbseXmq",
        "outputId": "b7ab272f-34f1-41ae-ab09-21da41856535"
      },
      "outputs": [
        {
          "output_type": "execute_result",
          "data": {
            "text/plain": [
              "0        70 80 82 72 58 58 60 63 54 58 60 48 89 115 121...\n",
              "1        151 150 147 155 148 133 111 140 170 174 182 15...\n",
              "2        231 212 156 164 174 138 161 173 182 200 106 38...\n",
              "3        24 32 36 30 32 23 19 20 30 41 21 22 32 34 21 1...\n",
              "4        4 0 0 0 0 0 0 0 0 0 0 0 3 15 23 28 48 50 58 84...\n",
              "                               ...                        \n",
              "35882    50 36 17 22 23 29 33 39 34 37 37 37 39 43 48 5...\n",
              "35883    178 174 172 173 181 188 191 194 196 199 200 20...\n",
              "35884    17 17 16 23 28 22 19 17 25 26 20 24 31 19 27 9...\n",
              "35885    30 28 28 29 31 30 42 68 79 81 77 67 67 71 63 6...\n",
              "35886    19 13 14 12 13 16 21 33 50 57 71 84 97 108 122...\n",
              "Name: pixels, Length: 35887, dtype: object"
            ]
          },
          "metadata": {},
          "execution_count": 6
        }
      ],
      "source": [
        "X"
      ]
    },
    {
      "cell_type": "code",
      "execution_count": null,
      "metadata": {
        "colab": {
          "base_uri": "https://localhost:8080/"
        },
        "id": "ocWMOx22eZrz",
        "outputId": "61ccf985-2360-4ada-d5f9-db21d6f688e7"
      },
      "outputs": [
        {
          "output_type": "execute_result",
          "data": {
            "text/plain": [
              "0        0\n",
              "1        0\n",
              "2        2\n",
              "3        4\n",
              "4        6\n",
              "        ..\n",
              "35882    6\n",
              "35883    3\n",
              "35884    0\n",
              "35885    3\n",
              "35886    2\n",
              "Name: emotion, Length: 35887, dtype: int64"
            ]
          },
          "metadata": {},
          "execution_count": 7
        }
      ],
      "source": [
        "y"
      ]
    },
    {
      "cell_type": "markdown",
      "metadata": {
        "id": "EU1ooiL5oUn-"
      },
      "source": [
        "# Expression Distribution"
      ]
    },
    {
      "cell_type": "code",
      "execution_count": null,
      "metadata": {
        "colab": {
          "base_uri": "https://localhost:8080/",
          "height": 285
        },
        "id": "7LrIXC6YkTeG",
        "outputId": "906a9742-df78-4299-8f04-35b9344c273e"
      },
      "outputs": [
        {
          "output_type": "display_data",
          "data": {
            "text/plain": [
              "<Figure size 432x288 with 1 Axes>"
            ],
            "image/png": "[encoded data removed]"
          },
          "metadata": {}
        }
      ],
      "source": [
        "sns.set_theme(style=\"darkgrid\")\n",
        "ax = sns.countplot(x=\"emotion\", data=data)\n"
      ]
    },
    {
      "cell_type": "markdown",
      "metadata": {
        "id": "dxh18AMho7eh"
      },
      "source": [
        "# Preparing the data"
      ]
    },
    {
      "cell_type": "code",
      "execution_count": null,
      "metadata": {
        "id": "6-NvVgYkkbZU"
      },
      "outputs": [],
      "source": [
        "train_set = data[(data.Usage == 'Training')] \n",
        "test_set = data[(data.Usage == 'PrivateTest')] "
      ]
    },
    {
      "cell_type": "code",
      "execution_count": null,
      "metadata": {
        "id": "yJWxXEIpkeZ0"
      },
      "outputs": [],
      "source": [
        "X_train = np.array(list(map(str.split, train_set.pixels)), np.float32) \n",
        "X_test = np.array(list(map(str.split, test_set.pixels)), np.float32) \n",
        "X_train = X_train.reshape(X_train.shape[0], 48, 48, 1) \n",
        "X_test = X_test.reshape(X_test.shape[0], 48, 48, 1)"
      ]
    },
    {
      "cell_type": "code",
      "execution_count": null,
      "metadata": {
        "id": "qUzoE-w-ki0U"
      },
      "outputs": [],
      "source": [
        "X_train=X_train/255\n",
        "X_test=X_test/255"
      ]
    },
    {
      "cell_type": "code",
      "execution_count": null,
      "metadata": {
        "id": "9O3FEkP2kkJF"
      },
      "outputs": [],
      "source": [
        "y_train = train_set.emotion  \n",
        "y_test = test_set.emotion "
      ]
    },
    {
      "cell_type": "code",
      "execution_count": null,
      "metadata": {
        "id": "DwLZdV3PkllN"
      },
      "outputs": [],
      "source": [
        "y_train = np_utils.to_categorical(y_train, 7)\n",
        "y_test = np_utils.to_categorical(y_test, 7)"
      ]
    },
    {
      "cell_type": "code",
      "execution_count": null,
      "metadata": {
        "colab": {
          "base_uri": "https://localhost:8080/"
        },
        "id": "KWZFCJxhkm1I",
        "outputId": "bb92f8cc-9ef2-46e8-a6ba-24c1cffa6160"
      },
      "outputs": [
        {
          "output_type": "execute_result",
          "data": {
            "text/plain": [
              "(3589, 7)"
            ]
          },
          "metadata": {},
          "execution_count": 14
        }
      ],
      "source": [
        "y_test.shape"
      ]
    },
    {
      "cell_type": "code",
      "execution_count": null,
      "metadata": {
        "colab": {
          "base_uri": "https://localhost:8080/"
        },
        "id": "6zyHomPvkoq7",
        "outputId": "d3d6c592-fdb4-40eb-bdf5-304e06ecb7d6"
      },
      "outputs": [
        {
          "output_type": "stream",
          "name": "stdout",
          "text": [
            "WARNING:tensorflow:`epsilon` argument is deprecated and will be removed, use `min_delta` instead.\n"
          ]
        }
      ],
      "source": [
        "from keras.callbacks import ReduceLROnPlateau\n",
        "lr_reduce = ReduceLROnPlateau(monitor='val_acc', factor=0.1, epsilon=0.0001, patience=1, verbose=1)"
      ]
    },
    {
      "cell_type": "markdown",
      "metadata": {
        "id": "ERS5p0dTphyL"
      },
      "source": [
        "# Building the Model"
      ]
    },
    {
      "cell_type": "code",
      "execution_count": null,
      "metadata": {
        "colab": {
          "base_uri": "https://localhost:8080/"
        },
        "id": "g5Kr4Nnlkrje",
        "outputId": "26e898ef-8fe8-4902-fda8-7316e9d470fb"
      },
      "outputs": [
        {
          "output_type": "stream",
          "name": "stdout",
          "text": [
            "Model: \"sequential\"\n",
            "_________________________________________________________________\n",
            " Layer (type)                Output Shape              Param #   \n",
            "=================================================================\n",
            " conv2d (Conv2D)             (None, 48, 48, 32)        320       \n",
            "                                                                 \n",
            " conv2d_1 (Conv2D)           (None, 48, 48, 32)        9248      \n",
            "                                                                 \n",
            " max_pooling2d (MaxPooling2D  (None, 24, 24, 32)       0         \n",
            " )                                                               \n",
            "                                                                 \n",
            " conv2d_2 (Conv2D)           (None, 24, 24, 64)        18496     \n",
            "                                                                 \n",
            " conv2d_3 (Conv2D)           (None, 24, 24, 64)        36928     \n",
            "                                                                 \n",
            " max_pooling2d_1 (MaxPooling  (None, 12, 12, 64)       0         \n",
            " 2D)                                                             \n",
            "                                                                 \n",
            " conv2d_4 (Conv2D)           (None, 12, 12, 96)        55392     \n",
            "                                                                 \n",
            " conv2d_5 (Conv2D)           (None, 10, 10, 96)        83040     \n",
            "                                                                 \n",
            " max_pooling2d_2 (MaxPooling  (None, 5, 5, 96)         0         \n",
            " 2D)                                                             \n",
            "                                                                 \n",
            " conv2d_6 (Conv2D)           (None, 5, 5, 128)         110720    \n",
            "                                                                 \n",
            " conv2d_7 (Conv2D)           (None, 3, 3, 128)         147584    \n",
            "                                                                 \n",
            " max_pooling2d_3 (MaxPooling  (None, 1, 1, 128)        0         \n",
            " 2D)                                                             \n",
            "                                                                 \n",
            " flatten (Flatten)           (None, 128)               0         \n",
            "                                                                 \n",
            " dense (Dense)               (None, 64)                8256      \n",
            "                                                                 \n",
            " dropout (Dropout)           (None, 64)                0         \n",
            "                                                                 \n",
            " dense_1 (Dense)             (None, 7)                 455       \n",
            "                                                                 \n",
            "=================================================================\n",
            "Total params: 470,439\n",
            "Trainable params: 470,439\n",
            "Non-trainable params: 0\n",
            "_________________________________________________________________\n",
            "None\n"
          ]
        }
      ],
      "source": [
        "model = Sequential()\n",
        "\n",
        "model.add(Conv2D(32, (3, 3), activation='relu', padding=\"same\", input_shape=(X_train.shape[1:])))\n",
        "model.add(Conv2D(32, (3, 3), padding=\"same\", activation='relu'))\n",
        "model.add(MaxPooling2D(pool_size=(2, 2)))\n",
        "model.add(Conv2D(64, (3, 3), activation='relu', padding=\"same\"))\n",
        "model.add(Conv2D(64, (3, 3), padding=\"same\", activation='relu'))\n",
        "model.add(MaxPooling2D(pool_size=(2, 2)))\n",
        "model.add(Conv2D(96, (3, 3), dilation_rate=(2, 2), activation='relu', padding=\"same\"))\n",
        "model.add(Conv2D(96, (3, 3), padding=\"valid\", activation='relu'))\n",
        "model.add(MaxPooling2D(pool_size=(2, 2)))\n",
        "model.add(Conv2D(128, (3, 3), dilation_rate=(2, 2), activation='relu', padding=\"same\"))\n",
        "model.add(Conv2D(128, (3, 3), padding=\"valid\", activation='relu'))\n",
        "model.add(MaxPooling2D(pool_size=(2, 2)))\n",
        "model.add(Flatten())\n",
        "model.add(Dense(64, activation='relu'))\n",
        "model.add(Dropout(0.4))\n",
        "model.add(Dense(7 , activation='sigmoid'))\n",
        "\n",
        "model.compile(loss='binary_crossentropy',\n",
        "              optimizer='adam' ,\n",
        "              metrics=['accuracy'])\n",
        "\n",
        "print(model.summary())"
      ]
    },
    {
      "cell_type": "markdown",
      "metadata": {
        "id": "UnsN9VLFqeU5"
      },
      "source": [
        "# Training the Model"
      ]
    },
    {
      "cell_type": "code",
      "execution_count": null,
      "metadata": {
        "colab": {
          "base_uri": "https://localhost:8080/"
        },
        "id": "NTE5saXhkyot",
        "outputId": "06d47108-a8a1-4c07-9806-587fcd3dcda9"
      },
      "outputs": [
        {
          "metadata": {
            "tags": null
          },
          "name": "stdout",
          "output_type": "stream",
          "text": [
            "Epoch 1/50\n",
            "225/225 [==============================] - ETA: 0s - loss: 0.4224 - accuracy: 0.2037WARNING:tensorflow:Learning rate reduction is conditioned on metric `val_acc` which is not available. Available metrics are: loss,accuracy,val_loss,val_accuracy,lr\n",
            "225/225 [==============================] - 472s 2s/step - loss: 0.4224 - accuracy: 0.2037 - val_loss: 0.3896 - val_accuracy: 0.2513 - lr: 0.0010\n",
            "Epoch 2/50\n",
            "225/225 [==============================] - ETA: 0s - loss: 0.3966 - accuracy: 0.2364WARNING:tensorflow:Learning rate reduction is conditioned on metric `val_acc` which is not available. Available metrics are: loss,accuracy,val_loss,val_accuracy,lr\n",
            "225/225 [==============================] - 465s 2s/step - loss: 0.3966 - accuracy: 0.2364 - val_loss: 0.3823 - val_accuracy: 0.2533 - lr: 0.0010\n",
            "Epoch 3/50\n",
            "225/225 [==============================] - ETA: 0s - loss: 0.3681 - accuracy: 0.3308WARNING:tensorflow:Learning rate reduction is conditioned on metric `val_acc` which is not available. Available metrics are: loss,accuracy,val_loss,val_accuracy,lr\n",
            "225/225 [==============================] - 463s 2s/step - loss: 0.3681 - accuracy: 0.3308 - val_loss: 0.3351 - val_accuracy: 0.4066 - lr: 0.0010\n",
            "Epoch 4/50\n",
            "225/225 [==============================] - ETA: 0s - loss: 0.3254 - accuracy: 0.4266WARNING:tensorflow:Learning rate reduction is conditioned on metric `val_acc` which is not available. Available metrics are: loss,accuracy,val_loss,val_accuracy,lr\n",
            "225/225 [==============================] - 462s 2s/step - loss: 0.3254 - accuracy: 0.4266 - val_loss: 0.3002 - val_accuracy: 0.4773 - lr: 0.0010\n",
            "Epoch 5/50\n",
            "225/225 [==============================] - ETA: 0s - loss: 0.2970 - accuracy: 0.4991WARNING:tensorflow:Learning rate reduction is conditioned on metric `val_acc` which is not available. Available metrics are: loss,accuracy,val_loss,val_accuracy,lr\n",
            "225/225 [==============================] - 465s 2s/step - loss: 0.2970 - accuracy: 0.4991 - val_loss: 0.2761 - val_accuracy: 0.5395 - lr: 0.0010\n",
            "Epoch 6/50\n",
            "225/225 [==============================] - ETA: 0s - loss: 0.2774 - accuracy: 0.5429WARNING:tensorflow:Learning rate reduction is conditioned on metric `val_acc` which is not available. Available metrics are: loss,accuracy,val_loss,val_accuracy,lr\n",
            "225/225 [==============================] - 465s 2s/step - loss: 0.2774 - accuracy: 0.5429 - val_loss: 0.2469 - val_accuracy: 0.5985 - lr: 0.0010\n",
            "Epoch 7/50\n",
            "225/225 [==============================] - ETA: 0s - loss: 0.2590 - accuracy: 0.5847WARNING:tensorflow:Learning rate reduction is conditioned on metric `val_acc` which is not available. Available metrics are: loss,accuracy,val_loss,val_accuracy,lr\n",
            "225/225 [==============================] - 463s 2s/step - loss: 0.2590 - accuracy: 0.5847 - val_loss: 0.2375 - val_accuracy: 0.6146 - lr: 0.0010\n",
            "Epoch 8/50\n",
            "225/225 [==============================] - ETA: 0s - loss: 0.2449 - accuracy: 0.6106WARNING:tensorflow:Learning rate reduction is conditioned on metric `val_acc` which is not available. Available metrics are: loss,accuracy,val_loss,val_accuracy,lr\n",
            "225/225 [==============================] - 461s 2s/step - loss: 0.2449 - accuracy: 0.6106 - val_loss: 0.2155 - val_accuracy: 0.6639 - lr: 0.0010\n",
            "Epoch 9/50\n",
            "225/225 [==============================] - ETA: 0s - loss: 0.2270 - accuracy: 0.6478WARNING:tensorflow:Learning rate reduction is conditioned on metric `val_acc` which is not available. Available metrics are: loss,accuracy,val_loss,val_accuracy,lr\n",
            "225/225 [==============================] - 463s 2s/step - loss: 0.2270 - accuracy: 0.6478 - val_loss: 0.2061 - val_accuracy: 0.6804 - lr: 0.0010\n",
            "Epoch 10/50\n",
            "225/225 [==============================] - ETA: 0s - loss: 0.2107 - accuracy: 0.6797WARNING:tensorflow:Learning rate reduction is conditioned on metric `val_acc` which is not available. Available metrics are: loss,accuracy,val_loss,val_accuracy,lr\n",
            "225/225 [==============================] - 463s 2s/step - loss: 0.2107 - accuracy: 0.6797 - val_loss: 0.1773 - val_accuracy: 0.7471 - lr: 0.0010\n",
            "Epoch 11/50\n",
            "225/225 [==============================] - ETA: 0s - loss: 0.1904 - accuracy: 0.7181WARNING:tensorflow:Learning rate reduction is conditioned on metric `val_acc` which is not available. Available metrics are: loss,accuracy,val_loss,val_accuracy,lr\n",
            "225/225 [==============================] - 462s 2s/step - loss: 0.1904 - accuracy: 0.7181 - val_loss: 0.1518 - val_accuracy: 0.7819 - lr: 0.0010\n",
            "Epoch 12/50\n",
            "225/225 [==============================] - ETA: 0s - loss: 0.1706 - accuracy: 0.7540WARNING:tensorflow:Learning rate reduction is conditioned on metric `val_acc` which is not available. Available metrics are: loss,accuracy,val_loss,val_accuracy,lr\n",
            "225/225 [==============================] - 462s 2s/step - loss: 0.1706 - accuracy: 0.7540 - val_loss: 0.1338 - val_accuracy: 0.8142 - lr: 0.0010\n",
            "Epoch 13/50\n",
            "225/225 [==============================] - ETA: 0s - loss: 0.1509 - accuracy: 0.7869WARNING:tensorflow:Learning rate reduction is conditioned on metric `val_acc` which is not available. Available metrics are: loss,accuracy,val_loss,val_accuracy,lr\n",
            "225/225 [==============================] - 464s 2s/step - loss: 0.1509 - accuracy: 0.7869 - val_loss: 0.1240 - val_accuracy: 0.8236 - lr: 0.0010\n",
            "Epoch 14/50\n",
            "225/225 [==============================] - ETA: 0s - loss: 0.1315 - accuracy: 0.8185WARNING:tensorflow:Learning rate reduction is conditioned on metric `val_acc` which is not available. Available metrics are: loss,accuracy,val_loss,val_accuracy,lr\n",
            "225/225 [==============================] - 462s 2s/step - loss: 0.1315 - accuracy: 0.8185 - val_loss: 0.0953 - val_accuracy: 0.8748 - lr: 0.0010\n",
            "Epoch 15/50\n",
            "225/225 [==============================] - ETA: 0s - loss: 0.1101 - accuracy: 0.8530WARNING:tensorflow:Learning rate reduction is conditioned on metric `val_acc` which is not available. Available metrics are: loss,accuracy,val_loss,val_accuracy,lr\n",
            "225/225 [==============================] - 448s 2s/step - loss: 0.1101 - accuracy: 0.8530 - val_loss: 0.0903 - val_accuracy: 0.8749 - lr: 0.0010\n",
            "Epoch 16/50\n",
            "225/225 [==============================] - ETA: 0s - loss: 0.0979 - accuracy: 0.8707WARNING:tensorflow:Learning rate reduction is conditioned on metric `val_acc` which is not available. Available metrics are: loss,accuracy,val_loss,val_accuracy,lr\n",
            "225/225 [==============================] - 446s 2s/step - loss: 0.0979 - accuracy: 0.8707 - val_loss: 0.0715 - val_accuracy: 0.9041 - lr: 0.0010\n",
            "Epoch 17/50\n",
            "225/225 [==============================] - ETA: 0s - loss: 0.0834 - accuracy: 0.8937WARNING:tensorflow:Learning rate reduction is conditioned on metric `val_acc` which is not available. Available metrics are: loss,accuracy,val_loss,val_accuracy,lr\n",
            "225/225 [==============================] - 447s 2s/step - loss: 0.0834 - accuracy: 0.8937 - val_loss: 0.0556 - val_accuracy: 0.9289 - lr: 0.0010\n",
            "Epoch 18/50\n",
            "225/225 [==============================] - ETA: 0s - loss: 0.0745 - accuracy: 0.9047WARNING:tensorflow:Learning rate reduction is conditioned on metric `val_acc` which is not available. Available metrics are: loss,accuracy,val_loss,val_accuracy,lr\n",
            "225/225 [==============================] - 454s 2s/step - loss: 0.0745 - accuracy: 0.9047 - val_loss: 0.0473 - val_accuracy: 0.9394 - lr: 0.0010\n",
            "Epoch 19/50\n",
            "225/225 [==============================] - ETA: 0s - loss: 0.0654 - accuracy: 0.9204WARNING:tensorflow:Learning rate reduction is conditioned on metric `val_acc` which is not available. Available metrics are: loss,accuracy,val_loss,val_accuracy,lr\n",
            "225/225 [==============================] - 454s 2s/step - loss: 0.0654 - accuracy: 0.9204 - val_loss: 0.0497 - val_accuracy: 0.9367 - lr: 0.0010\n",
            "Epoch 20/50\n",
            "225/225 [==============================] - ETA: 0s - loss: 0.0574 - accuracy: 0.9314WARNING:tensorflow:Learning rate reduction is conditioned on metric `val_acc` which is not available. Available metrics are: loss,accuracy,val_loss,val_accuracy,lr\n",
            "225/225 [==============================] - 447s 2s/step - loss: 0.0574 - accuracy: 0.9314 - val_loss: 0.0311 - val_accuracy: 0.9633 - lr: 0.0010\n",
            "Epoch 21/50\n",
            "225/225 [==============================] - ETA: 0s - loss: 0.0488 - accuracy: 0.9412WARNING:tensorflow:Learning rate reduction is conditioned on metric `val_acc` which is not available. Available metrics are: loss,accuracy,val_loss,val_accuracy,lr\n",
            "225/225 [==============================] - 449s 2s/step - loss: 0.0488 - accuracy: 0.9412 - val_loss: 0.0298 - val_accuracy: 0.9664 - lr: 0.0010\n",
            "Epoch 22/50\n",
            "225/225 [==============================] - ETA: 0s - loss: 0.0449 - accuracy: 0.9464WARNING:tensorflow:Learning rate reduction is conditioned on metric `val_acc` which is not available. Available metrics are: loss,accuracy,val_loss,val_accuracy,lr\n",
            "225/225 [==============================] - 446s 2s/step - loss: 0.0449 - accuracy: 0.9464 - val_loss: 0.0284 - val_accuracy: 0.9686 - lr: 0.0010\n",
            "Epoch 23/50\n",
            "225/225 [==============================] - ETA: 0s - loss: 0.0457 - accuracy: 0.9478WARNING:tensorflow:Learning rate reduction is conditioned on metric `val_acc` which is not available. Available metrics are: loss,accuracy,val_loss,val_accuracy,lr\n",
            "225/225 [==============================] - 444s 2s/step - loss: 0.0457 - accuracy: 0.9478 - val_loss: 0.0235 - val_accuracy: 0.9742 - lr: 0.0010\n",
            "Epoch 24/50\n",
            "225/225 [==============================] - ETA: 0s - loss: 0.0384 - accuracy: 0.9559WARNING:tensorflow:Learning rate reduction is conditioned on metric `val_acc` which is not available. Available metrics are: loss,accuracy,val_loss,val_accuracy,lr\n",
            "225/225 [==============================] - 445s 2s/step - loss: 0.0384 - accuracy: 0.9559 - val_loss: 0.0223 - val_accuracy: 0.9765 - lr: 0.0010\n",
            "Epoch 25/50\n",
            "225/225 [==============================] - ETA: 0s - loss: 0.0368 - accuracy: 0.9591WARNING:tensorflow:Learning rate reduction is conditioned on metric `val_acc` which is not available. Available metrics are: loss,accuracy,val_loss,val_accuracy,lr\n",
            "225/225 [==============================] - 444s 2s/step - loss: 0.0368 - accuracy: 0.9591 - val_loss: 0.0204 - val_accuracy: 0.9769 - lr: 0.0010\n",
            "Epoch 26/50\n",
            "225/225 [==============================] - ETA: 0s - loss: 0.0343 - accuracy: 0.9610WARNING:tensorflow:Learning rate reduction is conditioned on metric `val_acc` which is not available. Available metrics are: loss,accuracy,val_loss,val_accuracy,lr\n",
            "225/225 [==============================] - 444s 2s/step - loss: 0.0343 - accuracy: 0.9610 - val_loss: 0.0247 - val_accuracy: 0.9710 - lr: 0.0010\n",
            "Epoch 27/50\n",
            "225/225 [==============================] - ETA: 0s - loss: 0.0324 - accuracy: 0.9630WARNING:tensorflow:Learning rate reduction is conditioned on metric `val_acc` which is not available. Available metrics are: loss,accuracy,val_loss,val_accuracy,lr\n",
            "225/225 [==============================] - 445s 2s/step - loss: 0.0324 - accuracy: 0.9630 - val_loss: 0.0197 - val_accuracy: 0.9775 - lr: 0.0010\n",
            "Epoch 28/50\n",
            "225/225 [==============================] - ETA: 0s - loss: 0.0342 - accuracy: 0.9623WARNING:tensorflow:Learning rate reduction is conditioned on metric `val_acc` which is not available. Available metrics are: loss,accuracy,val_loss,val_accuracy,lr\n",
            "225/225 [==============================] - 444s 2s/step - loss: 0.0342 - accuracy: 0.9623 - val_loss: 0.0199 - val_accuracy: 0.9765 - lr: 0.0010\n",
            "Epoch 29/50\n",
            "225/225 [==============================] - ETA: 0s - loss: 0.0338 - accuracy: 0.9639WARNING:tensorflow:Learning rate reduction is conditioned on metric `val_acc` which is not available. Available metrics are: loss,accuracy,val_loss,val_accuracy,lr\n",
            "225/225 [==============================] - 443s 2s/step - loss: 0.0338 - accuracy: 0.9639 - val_loss: 0.0162 - val_accuracy: 0.9831 - lr: 0.0010\n",
            "Epoch 30/50\n",
            "225/225 [==============================] - ETA: 0s - loss: 0.0290 - accuracy: 0.9675WARNING:tensorflow:Learning rate reduction is conditioned on metric `val_acc` which is not available. Available metrics are: loss,accuracy,val_loss,val_accuracy,lr\n",
            "225/225 [==============================] - 444s 2s/step - loss: 0.0290 - accuracy: 0.9675 - val_loss: 0.0259 - val_accuracy: 0.9697 - lr: 0.0010\n",
            "Epoch 31/50\n",
            "225/225 [==============================] - ETA: 0s - loss: 0.0306 - accuracy: 0.9669WARNING:tensorflow:Learning rate reduction is conditioned on metric `val_acc` which is not available. Available metrics are: loss,accuracy,val_loss,val_accuracy,lr\n",
            "225/225 [==============================] - 447s 2s/step - loss: 0.0306 - accuracy: 0.9669 - val_loss: 0.0164 - val_accuracy: 0.9810 - lr: 0.0010\n",
            "Epoch 32/50\n",
            "225/225 [==============================] - ETA: 0s - loss: 0.0252 - accuracy: 0.9728WARNING:tensorflow:Learning rate reduction is conditioned on metric `val_acc` which is not available. Available metrics are: loss,accuracy,val_loss,val_accuracy,lr\n",
            "225/225 [==============================] - 444s 2s/step - loss: 0.0252 - accuracy: 0.9728 - val_loss: 0.0168 - val_accuracy: 0.9816 - lr: 0.0010\n",
            "Epoch 33/50\n",
            "225/225 [==============================] - ETA: 0s - loss: 0.0291 - accuracy: 0.9687WARNING:tensorflow:Learning rate reduction is conditioned on metric `val_acc` which is not available. Available metrics are: loss,accuracy,val_loss,val_accuracy,lr\n",
            "225/225 [==============================] - 444s 2s/step - loss: 0.0291 - accuracy: 0.9687 - val_loss: 0.0207 - val_accuracy: 0.9767 - lr: 0.0010\n",
            "Epoch 34/50\n",
            "225/225 [==============================] - ETA: 0s - loss: 0.0300 - accuracy: 0.9677WARNING:tensorflow:Learning rate reduction is conditioned on metric `val_acc` which is not available. Available metrics are: loss,accuracy,val_loss,val_accuracy,lr\n",
            "225/225 [==============================] - 445s 2s/step - loss: 0.0300 - accuracy: 0.9677 - val_loss: 0.0157 - val_accuracy: 0.9825 - lr: 0.0010\n",
            "Epoch 35/50\n",
            "225/225 [==============================] - ETA: 0s - loss: 0.0244 - accuracy: 0.9743WARNING:tensorflow:Learning rate reduction is conditioned on metric `val_acc` which is not available. Available metrics are: loss,accuracy,val_loss,val_accuracy,lr\n",
            "225/225 [==============================] - 444s 2s/step - loss: 0.0244 - accuracy: 0.9743 - val_loss: 0.0124 - val_accuracy: 0.9865 - lr: 0.0010\n",
            "Epoch 36/50\n",
            "225/225 [==============================] - ETA: 0s - loss: 0.0246 - accuracy: 0.9740WARNING:tensorflow:Learning rate reduction is conditioned on metric `val_acc` which is not available. Available metrics are: loss,accuracy,val_loss,val_accuracy,lr\n",
            "225/225 [==============================] - 444s 2s/step - loss: 0.0246 - accuracy: 0.9740 - val_loss: 0.0124 - val_accuracy: 0.9862 - lr: 0.0010\n",
            "Epoch 37/50\n",
            "225/225 [==============================] - ETA: 0s - loss: 0.0243 - accuracy: 0.9740WARNING:tensorflow:Learning rate reduction is conditioned on metric `val_acc` which is not available. Available metrics are: loss,accuracy,val_loss,val_accuracy,lr\n",
            "225/225 [==============================] - 444s 2s/step - loss: 0.0243 - accuracy: 0.9740 - val_loss: 0.0118 - val_accuracy: 0.9869 - lr: 0.0010\n",
            "Epoch 38/50\n",
            "225/225 [==============================] - ETA: 0s - loss: 0.0243 - accuracy: 0.9749WARNING:tensorflow:Learning rate reduction is conditioned on metric `val_acc` which is not available. Available metrics are: loss,accuracy,val_loss,val_accuracy,lr\n",
            "225/225 [==============================] - 444s 2s/step - loss: 0.0243 - accuracy: 0.9749 - val_loss: 0.0135 - val_accuracy: 0.9853 - lr: 0.0010\n",
            "Epoch 39/50\n",
            "225/225 [==============================] - ETA: 0s - loss: 0.0200 - accuracy: 0.9795WARNING:tensorflow:Learning rate reduction is conditioned on metric `val_acc` which is not available. Available metrics are: loss,accuracy,val_loss,val_accuracy,lr\n",
            "225/225 [==============================] - 443s 2s/step - loss: 0.0200 - accuracy: 0.9795 - val_loss: 0.0189 - val_accuracy: 0.9782 - lr: 0.0010\n",
            "Epoch 40/50\n",
            "225/225 [==============================] - ETA: 0s - loss: 0.0260 - accuracy: 0.9715WARNING:tensorflow:Learning rate reduction is conditioned on metric `val_acc` which is not available. Available metrics are: loss,accuracy,val_loss,val_accuracy,lr\n",
            "225/225 [==============================] - 444s 2s/step - loss: 0.0260 - accuracy: 0.9715 - val_loss: 0.0183 - val_accuracy: 0.9791 - lr: 0.0010\n",
            "Epoch 41/50\n",
            "225/225 [==============================] - ETA: 0s - loss: 0.0235 - accuracy: 0.9752WARNING:tensorflow:Learning rate reduction is conditioned on metric `val_acc` which is not available. Available metrics are: loss,accuracy,val_loss,val_accuracy,lr\n",
            "225/225 [==============================] - 445s 2s/step - loss: 0.0235 - accuracy: 0.9752 - val_loss: 0.0129 - val_accuracy: 0.9848 - lr: 0.0010\n",
            "Epoch 42/50\n",
            "225/225 [==============================] - ETA: 0s - loss: 0.0224 - accuracy: 0.9762WARNING:tensorflow:Learning rate reduction is conditioned on metric `val_acc` which is not available. Available metrics are: loss,accuracy,val_loss,val_accuracy,lr\n",
            "225/225 [==============================] - 445s 2s/step - loss: 0.0224 - accuracy: 0.9762 - val_loss: 0.0166 - val_accuracy: 0.9806 - lr: 0.0010\n",
            "Epoch 43/50\n",
            "225/225 [==============================] - ETA: 0s - loss: 0.0224 - accuracy: 0.9770WARNING:tensorflow:Learning rate reduction is conditioned on metric `val_acc` which is not available. Available metrics are: loss,accuracy,val_loss,val_accuracy,lr\n",
            "225/225 [==============================] - 450s 2s/step - loss: 0.0224 - accuracy: 0.9770 - val_loss: 0.0145 - val_accuracy: 0.9834 - lr: 0.0010\n",
            "Epoch 44/50\n",
            "225/225 [==============================] - ETA: 0s - loss: 0.0235 - accuracy: 0.9740WARNING:tensorflow:Learning rate reduction is conditioned on metric `val_acc` which is not available. Available metrics are: loss,accuracy,val_loss,val_accuracy,lr\n",
            "225/225 [==============================] - 467s 2s/step - loss: 0.0235 - accuracy: 0.9740 - val_loss: 0.0105 - val_accuracy: 0.9879 - lr: 0.0010\n",
            "Epoch 45/50\n",
            "225/225 [==============================] - ETA: 0s - loss: 0.0210 - accuracy: 0.9779WARNING:tensorflow:Learning rate reduction is conditioned on metric `val_acc` which is not available. Available metrics are: loss,accuracy,val_loss,val_accuracy,lr\n",
            "225/225 [==============================] - 468s 2s/step - loss: 0.0210 - accuracy: 0.9779 - val_loss: 0.0166 - val_accuracy: 0.9814 - lr: 0.0010\n",
            "Epoch 46/50\n",
            "225/225 [==============================] - ETA: 0s - loss: 0.0237 - accuracy: 0.9749WARNING:tensorflow:Learning rate reduction is conditioned on metric `val_acc` which is not available. Available metrics are: loss,accuracy,val_loss,val_accuracy,lr\n",
            "225/225 [==============================] - 457s 2s/step - loss: 0.0237 - accuracy: 0.9749 - val_loss: 0.0161 - val_accuracy: 0.9805 - lr: 0.0010\n",
            "Epoch 47/50\n",
            "225/225 [==============================] - ETA: 0s - loss: 0.0236 - accuracy: 0.9739WARNING:tensorflow:Learning rate reduction is conditioned on metric `val_acc` which is not available. Available metrics are: loss,accuracy,val_loss,val_accuracy,lr\n",
            "225/225 [==============================] - 446s 2s/step - loss: 0.0236 - accuracy: 0.9739 - val_loss: 0.0122 - val_accuracy: 0.9871 - lr: 0.0010\n",
            "Epoch 48/50\n",
            "225/225 [==============================] - ETA: 0s - loss: 0.0228 - accuracy: 0.9765WARNING:tensorflow:Learning rate reduction is conditioned on metric `val_acc` which is not available. Available metrics are: loss,accuracy,val_loss,val_accuracy,lr\n",
            "225/225 [==============================] - 445s 2s/step - loss: 0.0228 - accuracy: 0.9765 - val_loss: 0.0111 - val_accuracy: 0.9877 - lr: 0.0010\n",
            "Epoch 49/50\n",
            "225/225 [==============================] - ETA: 0s - loss: 0.0206 - accuracy: 0.9792WARNING:tensorflow:Learning rate reduction is conditioned on metric `val_acc` which is not available. Available metrics are: loss,accuracy,val_loss,val_accuracy,lr\n",
            "225/225 [==============================] - 445s 2s/step - loss: 0.0206 - accuracy: 0.9792 - val_loss: 0.0155 - val_accuracy: 0.9826 - lr: 0.0010\n",
            "Epoch 50/50\n",
            "225/225 [==============================] - ETA: 0s - loss: 0.0229 - accuracy: 0.9757WARNING:tensorflow:Learning rate reduction is conditioned on metric `val_acc` which is not available. Available metrics are: loss,accuracy,val_loss,val_accuracy,lr\n",
            "225/225 [==============================] - 445s 2s/step - loss: 0.0229 - accuracy: 0.9757 - val_loss: 0.0114 - val_accuracy: 0.9887 - lr: 0.0010\n"
          ]
        }
      ],
      "source": [
        "history = model.fit(X_train, y_train, batch_size=128, callbacks=lr_reduce, validation_data=(X_train,y_train), epochs = 50)"
      ]
    },
    {
      "cell_type": "code",
      "execution_count": null,
      "metadata": {
        "id": "9F1aH4Hvk5FL",
        "colab": {
          "base_uri": "https://localhost:8080/"
        },
        "outputId": "c12fe02e-9a00-47fe-f24f-e1ab3ef3860b"
      },
      "outputs": [
        {
          "output_type": "stream",
          "name": "stdout",
          "text": [
            "898/898 [==============================] - 93s 103ms/step - loss: 0.0114 - accuracy: 0.9887\n",
            "Accuracy of our model on validation data :  98.87491464614868 %\n"
          ]
        }
      ],
      "source": [
        "# computing the accuracy\n",
        "print(\"Accuracy of our model on validation data : \" , model.evaluate(X_train,y_train)[1]*100 , \"%\")"
      ]
    },
    {
      "cell_type": "code",
      "execution_count": null,
      "metadata": {
        "id": "xkWbfctCk-rr",
        "colab": {
          "base_uri": "https://localhost:8080/",
          "height": 585
        },
        "outputId": "5f1586f0-fac8-478a-a44e-2bfa2b42a385"
      },
      "outputs": [
        {
          "output_type": "display_data",
          "data": {
            "text/plain": [
              "<Figure size 432x288 with 1 Axes>"
            ],
            "image/png": "[encoded data removed]"
          },
          "metadata": {}
        },
        {
          "output_type": "display_data",
          "data": {
            "text/plain": [
              "<Figure size 432x288 with 1 Axes>"
            ],
            "image/png": "[encoded data removed]"
          },
          "metadata": {}
        }
      ],
      "source": [
        "plt.plot(history.history['accuracy'])\n",
        "plt.plot(history.history['val_accuracy'])\n",
        "plt.title('model accuracy')\n",
        "plt.ylabel('accuracy')\n",
        "plt.xlabel('epoch')\n",
        "plt.legend(['train', 'test'], loc='upper left')\n",
        "plt.show()\n",
        "# summarize history for loss\n",
        "plt.plot(history.history['loss'])\n",
        "plt.plot(history.history['val_loss'])\n",
        "plt.title('model loss')\n",
        "plt.ylabel('loss')\n",
        "plt.xlabel('epoch')\n",
        "plt.legend(['train', 'test'], loc='upper left')\n",
        "plt.show()"
      ]
    },
    {
      "cell_type": "markdown",
      "source": [],
      "metadata": {
        "id": "3Ap6U3a0ETJO"
      }
    },
    {
      "cell_type": "markdown",
      "metadata": {
        "id": "pwZZo-QpqouL"
      },
      "source": [
        "# Predicition "
      ]
    },
    {
      "cell_type": "code",
      "execution_count": null,
      "metadata": {
        "id": "ibaOE5HJlA9E"
      },
      "outputs": [],
      "source": [
        "\n",
        "\n",
        "y_pred = model.predict(X_test)\n",
        "y_pred = np.round(y_pred).astype(int)\n",
        "\n"
      ]
    },
    {
      "cell_type": "code",
      "execution_count": null,
      "metadata": {
        "id": "mvk5N-2AlCh0",
        "colab": {
          "base_uri": "https://localhost:8080/",
          "height": 363
        },
        "outputId": "68e3ad0c-c77e-497a-9703-443cfc56c2d0"
      },
      "outputs": [
        {
          "output_type": "execute_result",
          "data": {
            "text/plain": [
              "   Predicted Labels  Actual Labels\n",
              "0                 0            1.0\n",
              "1                 0            0.0\n",
              "2                 1            0.0\n",
              "3                 0            0.0\n",
              "4                 0            0.0\n",
              "5                 0            0.0\n",
              "6                 0            0.0\n",
              "7                 1            0.0\n",
              "8                 0            0.0\n",
              "9                 0            0.0"
            ],
            "text/html": [
              "\n",
              "  <div id=\"df-0ae19ff5-f722-4630-adf8-627e67b6bc3c\">\n",
              "    <div class=\"colab-df-container\">\n",
              "      <div>\n",
              "<style scoped>\n",
              "    .dataframe tbody tr th:only-of-type {\n",
              "        vertical-align: middle;\n",
              "    }\n",
              "\n",
              "    .dataframe tbody tr th {\n",
              "        vertical-align: top;\n",
              "    }\n",
              "\n",
              "    .dataframe thead th {\n",
              "        text-align: right;\n",
              "    }\n",
              "</style>\n",
              "<table border=\"1\" class=\"dataframe\">\n",
              "  <thead>\n",
              "    <tr style=\"text-align: right;\">\n",
              "      <th></th>\n",
              "      <th>Predicted Labels</th>\n",
              "      <th>Actual Labels</th>\n",
              "    </tr>\n",
              "  </thead>\n",
              "  <tbody>\n",
              "    <tr>\n",
              "      <th>0</th>\n",
              "      <td>0</td>\n",
              "      <td>1.0</td>\n",
              "    </tr>\n",
              "    <tr>\n",
              "      <th>1</th>\n",
              "      <td>0</td>\n",
              "      <td>0.0</td>\n",
              "    </tr>\n",
              "    <tr>\n",
              "      <th>2</th>\n",
              "      <td>1</td>\n",
              "      <td>0.0</td>\n",
              "    </tr>\n",
              "    <tr>\n",
              "      <th>3</th>\n",
              "      <td>0</td>\n",
              "      <td>0.0</td>\n",
              "    </tr>\n",
              "    <tr>\n",
              "      <th>4</th>\n",
              "      <td>0</td>\n",
              "      <td>0.0</td>\n",
              "    </tr>\n",
              "    <tr>\n",
              "      <th>5</th>\n",
              "      <td>0</td>\n",
              "      <td>0.0</td>\n",
              "    </tr>\n",
              "    <tr>\n",
              "      <th>6</th>\n",
              "      <td>0</td>\n",
              "      <td>0.0</td>\n",
              "    </tr>\n",
              "    <tr>\n",
              "      <th>7</th>\n",
              "      <td>1</td>\n",
              "      <td>0.0</td>\n",
              "    </tr>\n",
              "    <tr>\n",
              "      <th>8</th>\n",
              "      <td>0</td>\n",
              "      <td>0.0</td>\n",
              "    </tr>\n",
              "    <tr>\n",
              "      <th>9</th>\n",
              "      <td>0</td>\n",
              "      <td>0.0</td>\n",
              "    </tr>\n",
              "  </tbody>\n",
              "</table>\n",
              "</div>\n",
              "      <button class=\"colab-df-convert\" onclick=\"convertToInteractive('df-0ae19ff5-f722-4630-adf8-627e67b6bc3c')\"\n",
              "              title=\"Convert this dataframe to an interactive table.\"\n",
              "              style=\"display:none;\">\n",
              "        \n",
              "  <svg xmlns=\"http://www.w3.org/2000/svg\" height=\"24px\"viewBox=\"0 0 24 24\"\n",
              "       width=\"24px\">\n",
              "    <path d=\"M0 0h24v24H0V0z\" fill=\"none\"/>\n",
              "    <path d=\"M18.56 5.44l.94 2.06.94-2.06 2.06-.94-2.06-.94-.94-2.06-.94 2.06-2.06.94zm-11 1L8.5 8.5l.94-2.06 2.06-.94-2.06-.94L8.5 2.5l-.94 2.06-2.06.94zm10 10l.94 2.06.94-2.06 2.06-.94-2.06-.94-.94-2.06-.94 2.06-2.06.94z\"/><path d=\"M17.41 7.96l-1.37-1.37c-.4-.4-.92-.59-1.43-.59-.52 0-1.04.2-1.43.59L10.3 9.45l-7.72 7.72c-.78.78-.78 2.05 0 2.83L4 21.41c.39.39.9.59 1.41.59.51 0 1.02-.2 1.41-.59l7.78-7.78 2.81-2.81c.8-.78.8-2.07 0-2.86zM5.41 20L4 18.59l7.72-7.72 1.47 1.35L5.41 20z\"/>\n",
              "  </svg>\n",
              "      </button>\n",
              "      \n",
              "  <style>\n",
              "    .colab-df-container {\n",
              "      display:flex;\n",
              "      flex-wrap:wrap;\n",
              "      gap: 12px;\n",
              "    }\n",
              "\n",
              "    .colab-df-convert {\n",
              "      background-color: #E8F0FE;\n",
              "      border: none;\n",
              "      border-radius: 50%;\n",
              "      cursor: pointer;\n",
              "      display: none;\n",
              "      fill: #1967D2;\n",
              "      height: 32px;\n",
              "      padding: 0 0 0 0;\n",
              "      width: 32px;\n",
              "    }\n",
              "\n",
              "    .colab-df-convert:hover {\n",
              "      background-color: #E2EBFA;\n",
              "      box-shadow: 0px 1px 2px rgba(60, 64, 67, 0.3), 0px 1px 3px 1px rgba(60, 64, 67, 0.15);\n",
              "      fill: #174EA6;\n",
              "    }\n",
              "\n",
              "    [theme=dark] .colab-df-convert {\n",
              "      background-color: #3B4455;\n",
              "      fill: #D2E3FC;\n",
              "    }\n",
              "\n",
              "    [theme=dark] .colab-df-convert:hover {\n",
              "      background-color: #434B5C;\n",
              "      box-shadow: 0px 1px 3px 1px rgba(0, 0, 0, 0.15);\n",
              "      filter: drop-shadow(0px 1px 2px rgba(0, 0, 0, 0.3));\n",
              "      fill: #FFFFFF;\n",
              "    }\n",
              "  </style>\n",
              "\n",
              "      <script>\n",
              "        const buttonEl =\n",
              "          document.querySelector('#df-0ae19ff5-f722-4630-adf8-627e67b6bc3c button.colab-df-convert');\n",
              "        buttonEl.style.display =\n",
              "          google.colab.kernel.accessAllowed ? 'block' : 'none';\n",
              "\n",
              "        async function convertToInteractive(key) {\n",
              "          const element = document.querySelector('#df-0ae19ff5-f722-4630-adf8-627e67b6bc3c');\n",
              "          const dataTable =\n",
              "            await google.colab.kernel.invokeFunction('convertToInteractive',\n",
              "                                                     [key], {});\n",
              "          if (!dataTable) return;\n",
              "\n",
              "          const docLinkHtml = 'Like what you see? Visit the ' +\n",
              "            '<a target=\"_blank\" href=https://colab.research.google.com/notebooks/data_table.ipynb>data table notebook</a>'\n",
              "            + ' to learn more about interactive tables.';\n",
              "          element.innerHTML = '';\n",
              "          dataTable['output_type'] = 'display_data';\n",
              "          await google.colab.output.renderOutput(dataTable, element);\n",
              "          const docLink = document.createElement('div');\n",
              "          docLink.innerHTML = docLinkHtml;\n",
              "          element.appendChild(docLink);\n",
              "        }\n",
              "      </script>\n",
              "    </div>\n",
              "  </div>\n",
              "  "
            ]
          },
          "metadata": {},
          "execution_count": 21
        }
      ],
      "source": [
        "df = pd.DataFrame(columns=['Predicted Labels', 'Actual Labels'])\n",
        "df['Predicted Labels'] = y_pred.flatten()\n",
        "df['Actual Labels'] = y_test.flatten()\n",
        "\n",
        "df.head(10)"
      ]
    },
    {
      "cell_type": "code",
      "execution_count": null,
      "metadata": {
        "id": "VgldAICUlEK0"
      },
      "outputs": [],
      "source": [
        "# model_name = 'Human_Emotion_Model.h5'\n",
        "# save_dir = os.path.join(os.getcwd(), 'saved_models')\n",
        "# # Save model and weights\n",
        "# if not os.path.isdir(save_dir):\n",
        "#     os.makedirs(save_dir)\n",
        "# model_path = os.path.join(save_dir, model_name)\n",
        "# model.save(model_path)\n",
        "# print('Saved trained model at %s ' % model_path)"
      ]
    },
    {
      "cell_type": "code",
      "execution_count": null,
      "metadata": {
        "id": "vzYB1wwplGrk"
      },
      "outputs": [],
      "source": [
        "#Saving the  model to  use it later on  \n",
        "fer_json = model.to_json()  \n",
        "with open(\"fer.json\", \"w\") as json_file:  \n",
        "    json_file.write(fer_json)  \n",
        "model.save_weights(\"fer.h5\") "
      ]
    },
    {
      "cell_type": "code",
      "execution_count": null,
      "metadata": {
        "id": "Waxo_ft-zgt5",
        "colab": {
          "base_uri": "https://localhost:8080/",
          "height": 677
        },
        "outputId": "233caf08-2485-41b5-c9f8-0f577c575218"
      },
      "outputs": [
        {
          "output_type": "execute_result",
          "data": {
            "text/plain": [
              "       Predicted Labels  Actual Labels\n",
              "25103                 0            0.0\n",
              "25104                 0            0.0\n",
              "25105                 0            0.0\n",
              "25106                 0            0.0\n",
              "25107                 0            0.0\n",
              "25108                 1            0.0\n",
              "25109                 0            0.0\n",
              "25110                 0            0.0\n",
              "25111                 0            0.0\n",
              "25112                 1            1.0\n",
              "25113                 0            0.0\n",
              "25114                 0            0.0\n",
              "25115                 0            0.0\n",
              "25116                 0            0.0\n",
              "25117                 0            0.0\n",
              "25118                 1            1.0\n",
              "25119                 0            0.0\n",
              "25120                 0            0.0\n",
              "25121                 0            0.0\n",
              "25122                 0            0.0"
            ],
            "text/html": [
              "\n",
              "  <div id=\"df-724ade52-cdbd-467a-b5e7-23c8941b477b\">\n",
              "    <div class=\"colab-df-container\">\n",
              "      <div>\n",
              "<style scoped>\n",
              "    .dataframe tbody tr th:only-of-type {\n",
              "        vertical-align: middle;\n",
              "    }\n",
              "\n",
              "    .dataframe tbody tr th {\n",
              "        vertical-align: top;\n",
              "    }\n",
              "\n",
              "    .dataframe thead th {\n",
              "        text-align: right;\n",
              "    }\n",
              "</style>\n",
              "<table border=\"1\" class=\"dataframe\">\n",
              "  <thead>\n",
              "    <tr style=\"text-align: right;\">\n",
              "      <th></th>\n",
              "      <th>Predicted Labels</th>\n",
              "      <th>Actual Labels</th>\n",
              "    </tr>\n",
              "  </thead>\n",
              "  <tbody>\n",
              "    <tr>\n",
              "      <th>25103</th>\n",
              "      <td>0</td>\n",
              "      <td>0.0</td>\n",
              "    </tr>\n",
              "    <tr>\n",
              "      <th>25104</th>\n",
              "      <td>0</td>\n",
              "      <td>0.0</td>\n",
              "    </tr>\n",
              "    <tr>\n",
              "      <th>25105</th>\n",
              "      <td>0</td>\n",
              "      <td>0.0</td>\n",
              "    </tr>\n",
              "    <tr>\n",
              "      <th>25106</th>\n",
              "      <td>0</td>\n",
              "      <td>0.0</td>\n",
              "    </tr>\n",
              "    <tr>\n",
              "      <th>25107</th>\n",
              "      <td>0</td>\n",
              "      <td>0.0</td>\n",
              "    </tr>\n",
              "    <tr>\n",
              "      <th>25108</th>\n",
              "      <td>1</td>\n",
              "      <td>0.0</td>\n",
              "    </tr>\n",
              "    <tr>\n",
              "      <th>25109</th>\n",
              "      <td>0</td>\n",
              "      <td>0.0</td>\n",
              "    </tr>\n",
              "    <tr>\n",
              "      <th>25110</th>\n",
              "      <td>0</td>\n",
              "      <td>0.0</td>\n",
              "    </tr>\n",
              "    <tr>\n",
              "      <th>25111</th>\n",
              "      <td>0</td>\n",
              "      <td>0.0</td>\n",
              "    </tr>\n",
              "    <tr>\n",
              "      <th>25112</th>\n",
              "      <td>1</td>\n",
              "      <td>1.0</td>\n",
              "    </tr>\n",
              "    <tr>\n",
              "      <th>25113</th>\n",
              "      <td>0</td>\n",
              "      <td>0.0</td>\n",
              "    </tr>\n",
              "    <tr>\n",
              "      <th>25114</th>\n",
              "      <td>0</td>\n",
              "      <td>0.0</td>\n",
              "    </tr>\n",
              "    <tr>\n",
              "      <th>25115</th>\n",
              "      <td>0</td>\n",
              "      <td>0.0</td>\n",
              "    </tr>\n",
              "    <tr>\n",
              "      <th>25116</th>\n",
              "      <td>0</td>\n",
              "      <td>0.0</td>\n",
              "    </tr>\n",
              "    <tr>\n",
              "      <th>25117</th>\n",
              "      <td>0</td>\n",
              "      <td>0.0</td>\n",
              "    </tr>\n",
              "    <tr>\n",
              "      <th>25118</th>\n",
              "      <td>1</td>\n",
              "      <td>1.0</td>\n",
              "    </tr>\n",
              "    <tr>\n",
              "      <th>25119</th>\n",
              "      <td>0</td>\n",
              "      <td>0.0</td>\n",
              "    </tr>\n",
              "    <tr>\n",
              "      <th>25120</th>\n",
              "      <td>0</td>\n",
              "      <td>0.0</td>\n",
              "    </tr>\n",
              "    <tr>\n",
              "      <th>25121</th>\n",
              "      <td>0</td>\n",
              "      <td>0.0</td>\n",
              "    </tr>\n",
              "    <tr>\n",
              "      <th>25122</th>\n",
              "      <td>0</td>\n",
              "      <td>0.0</td>\n",
              "    </tr>\n",
              "  </tbody>\n",
              "</table>\n",
              "</div>\n",
              "      <button class=\"colab-df-convert\" onclick=\"convertToInteractive('df-724ade52-cdbd-467a-b5e7-23c8941b477b')\"\n",
              "              title=\"Convert this dataframe to an interactive table.\"\n",
              "              style=\"display:none;\">\n",
              "        \n",
              "  <svg xmlns=\"http://www.w3.org/2000/svg\" height=\"24px\"viewBox=\"0 0 24 24\"\n",
              "       width=\"24px\">\n",
              "    <path d=\"M0 0h24v24H0V0z\" fill=\"none\"/>\n",
              "    <path d=\"M18.56 5.44l.94 2.06.94-2.06 2.06-.94-2.06-.94-.94-2.06-.94 2.06-2.06.94zm-11 1L8.5 8.5l.94-2.06 2.06-.94-2.06-.94L8.5 2.5l-.94 2.06-2.06.94zm10 10l.94 2.06.94-2.06 2.06-.94-2.06-.94-.94-2.06-.94 2.06-2.06.94z\"/><path d=\"M17.41 7.96l-1.37-1.37c-.4-.4-.92-.59-1.43-.59-.52 0-1.04.2-1.43.59L10.3 9.45l-7.72 7.72c-.78.78-.78 2.05 0 2.83L4 21.41c.39.39.9.59 1.41.59.51 0 1.02-.2 1.41-.59l7.78-7.78 2.81-2.81c.8-.78.8-2.07 0-2.86zM5.41 20L4 18.59l7.72-7.72 1.47 1.35L5.41 20z\"/>\n",
              "  </svg>\n",
              "      </button>\n",
              "      \n",
              "  <style>\n",
              "    .colab-df-container {\n",
              "      display:flex;\n",
              "      flex-wrap:wrap;\n",
              "      gap: 12px;\n",
              "    }\n",
              "\n",
              "    .colab-df-convert {\n",
              "      background-color: #E8F0FE;\n",
              "      border: none;\n",
              "      border-radius: 50%;\n",
              "      cursor: pointer;\n",
              "      display: none;\n",
              "      fill: #1967D2;\n",
              "      height: 32px;\n",
              "      padding: 0 0 0 0;\n",
              "      width: 32px;\n",
              "    }\n",
              "\n",
              "    .colab-df-convert:hover {\n",
              "      background-color: #E2EBFA;\n",
              "      box-shadow: 0px 1px 2px rgba(60, 64, 67, 0.3), 0px 1px 3px 1px rgba(60, 64, 67, 0.15);\n",
              "      fill: #174EA6;\n",
              "    }\n",
              "\n",
              "    [theme=dark] .colab-df-convert {\n",
              "      background-color: #3B4455;\n",
              "      fill: #D2E3FC;\n",
              "    }\n",
              "\n",
              "    [theme=dark] .colab-df-convert:hover {\n",
              "      background-color: #434B5C;\n",
              "      box-shadow: 0px 1px 3px 1px rgba(0, 0, 0, 0.15);\n",
              "      filter: drop-shadow(0px 1px 2px rgba(0, 0, 0, 0.3));\n",
              "      fill: #FFFFFF;\n",
              "    }\n",
              "  </style>\n",
              "\n",
              "      <script>\n",
              "        const buttonEl =\n",
              "          document.querySelector('#df-724ade52-cdbd-467a-b5e7-23c8941b477b button.colab-df-convert');\n",
              "        buttonEl.style.display =\n",
              "          google.colab.kernel.accessAllowed ? 'block' : 'none';\n",
              "\n",
              "        async function convertToInteractive(key) {\n",
              "          const element = document.querySelector('#df-724ade52-cdbd-467a-b5e7-23c8941b477b');\n",
              "          const dataTable =\n",
              "            await google.colab.kernel.invokeFunction('convertToInteractive',\n",
              "                                                     [key], {});\n",
              "          if (!dataTable) return;\n",
              "\n",
              "          const docLinkHtml = 'Like what you see? Visit the ' +\n",
              "            '<a target=\"_blank\" href=https://colab.research.google.com/notebooks/data_table.ipynb>data table notebook</a>'\n",
              "            + ' to learn more about interactive tables.';\n",
              "          element.innerHTML = '';\n",
              "          dataTable['output_type'] = 'display_data';\n",
              "          await google.colab.output.renderOutput(dataTable, element);\n",
              "          const docLink = document.createElement('div');\n",
              "          docLink.innerHTML = docLinkHtml;\n",
              "          element.appendChild(docLink);\n",
              "        }\n",
              "      </script>\n",
              "    </div>\n",
              "  </div>\n",
              "  "
            ]
          },
          "metadata": {},
          "execution_count": 24
        }
      ],
      "source": [
        "df.tail(20)"
      ]
    },
    {
      "cell_type": "code",
      "execution_count": null,
      "metadata": {
        "id": "XKGc_2Cbg9Vr"
      },
      "outputs": [],
      "source": []
    }
  ],
  "metadata": {
    "colab": {
      "collapsed_sections": [],
      "provenance": []
    },
    "kernelspec": {
      "display_name": "Python 3",
      "name": "python3"
    },
    "language_info": {
      "name": "python"
    }
  },
  "nbformat": 4,
  "nbformat_minor": 0
}